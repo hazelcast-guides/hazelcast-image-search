{
 "cells": [
  {
   "cell_type": "code",
   "execution_count": 2,
   "id": "df52bff6-f8a9-401b-81aa-f8395dc7e853",
   "metadata": {},
   "outputs": [],
   "source": [
    "import hazelcast\n",
    "\n",
    "# connect to Hazelcast\n",
    "hz = hazelcast.HazelcastClient(cluster_name = \"dev\", cluster_members = [\"hz:5701\"])"
   ]
  },
  {
   "cell_type": "code",
   "execution_count": 3,
   "id": "65e899e2-6f52-4e87-8890-cf9291914ac2",
   "metadata": {},
   "outputs": [],
   "source": [
    "vectors = hz.get_vector_collection('images').blocking()"
   ]
  },
  {
   "cell_type": "code",
   "execution_count": 4,
   "id": "c5a87301-5d8f-48e7-93ab-49cb0ce3c941",
   "metadata": {},
   "outputs": [
    {
     "name": "stderr",
     "output_type": "stream",
     "text": [
      "/usr/local/lib/python3.12/site-packages/sentence_transformers/cross_encoder/CrossEncoder.py:11: TqdmExperimentalWarning: Using `tqdm.autonotebook.tqdm` in notebook mode. Use `tqdm.tqdm` instead to force console mode (e.g. in jupyter console)\n",
      "  from tqdm.autonotebook import tqdm, trange\n"
     ]
    },
    {
     "data": {
      "application/vnd.jupyter.widget-view+json": {
       "model_id": "515fcab524c744e19cd70566e39b3c04",
       "version_major": 2,
       "version_minor": 0
      },
      "text/plain": [
       "modules.json:   0%|          | 0.00/122 [00:00<?, ?B/s]"
      ]
     },
     "metadata": {},
     "output_type": "display_data"
    },
    {
     "data": {
      "application/vnd.jupyter.widget-view+json": {
       "model_id": "c3b1daf0c06e4ea4a82fb8bbbb3ab820",
       "version_major": 2,
       "version_minor": 0
      },
      "text/plain": [
       "config_sentence_transformers.json:   0%|          | 0.00/116 [00:00<?, ?B/s]"
      ]
     },
     "metadata": {},
     "output_type": "display_data"
    },
    {
     "data": {
      "application/vnd.jupyter.widget-view+json": {
       "model_id": "2eaa81f21b494a8b948bee650445e398",
       "version_major": 2,
       "version_minor": 0
      },
      "text/plain": [
       "README.md:   0%|          | 0.00/1.91k [00:00<?, ?B/s]"
      ]
     },
     "metadata": {},
     "output_type": "display_data"
    },
    {
     "data": {
      "application/vnd.jupyter.widget-view+json": {
       "model_id": "1553235a2e9e415cb96839644210511f",
       "version_major": 2,
       "version_minor": 0
      },
      "text/plain": [
       "0_CLIPModel/config.json:   0%|          | 0.00/4.03k [00:00<?, ?B/s]"
      ]
     },
     "metadata": {},
     "output_type": "display_data"
    },
    {
     "data": {
      "application/vnd.jupyter.widget-view+json": {
       "model_id": "2108e0ef90be4f0695cea5930f75d3c2",
       "version_major": 2,
       "version_minor": 0
      },
      "text/plain": [
       "0_CLIPModel/tokenizer_config.json:   0%|          | 0.00/604 [00:00<?, ?B/s]"
      ]
     },
     "metadata": {},
     "output_type": "display_data"
    },
    {
     "data": {
      "application/vnd.jupyter.widget-view+json": {
       "model_id": "33863e2743c947409758453441002be3",
       "version_major": 2,
       "version_minor": 0
      },
      "text/plain": [
       "0_CLIPModel/preprocessor_config.json:   0%|          | 0.00/316 [00:00<?, ?B/s]"
      ]
     },
     "metadata": {},
     "output_type": "display_data"
    },
    {
     "data": {
      "application/vnd.jupyter.widget-view+json": {
       "model_id": "7edbd4808e024d56b5c6be5faacdf150",
       "version_major": 2,
       "version_minor": 0
      },
      "text/plain": [
       "0_CLIPModel/vocab.json:   0%|          | 0.00/961k [00:00<?, ?B/s]"
      ]
     },
     "metadata": {},
     "output_type": "display_data"
    },
    {
     "data": {
      "application/vnd.jupyter.widget-view+json": {
       "model_id": "1923d0ccb60448798cd8e48c6b50867e",
       "version_major": 2,
       "version_minor": 0
      },
      "text/plain": [
       "0_CLIPModel/merges.txt:   0%|          | 0.00/525k [00:00<?, ?B/s]"
      ]
     },
     "metadata": {},
     "output_type": "display_data"
    },
    {
     "data": {
      "application/vnd.jupyter.widget-view+json": {
       "model_id": "dd20790f5aaa4d0698dde9a7d24c2d1f",
       "version_major": 2,
       "version_minor": 0
      },
      "text/plain": [
       "0_CLIPModel/special_tokens_map.json:   0%|          | 0.00/389 [00:00<?, ?B/s]"
      ]
     },
     "metadata": {},
     "output_type": "display_data"
    },
    {
     "data": {
      "application/vnd.jupyter.widget-view+json": {
       "model_id": "bcc5152d56ba4ea2b19a0b7375289b40",
       "version_major": 2,
       "version_minor": 0
      },
      "text/plain": [
       "pytorch_model.bin:   0%|          | 0.00/605M [00:00<?, ?B/s]"
      ]
     },
     "metadata": {},
     "output_type": "display_data"
    }
   ],
   "source": [
    "# initialize the sentence transformer \n",
    "import sentence_transformers\n",
    "encoder = sentence_transformers.SentenceTransformer('clip-ViT-B-32')"
   ]
  },
  {
   "cell_type": "code",
   "execution_count": 5,
   "id": "290b7d83-4c93-4d9e-aed9-f78fde300174",
   "metadata": {},
   "outputs": [
    {
     "data": {
      "text/plain": [
       "351"
      ]
     },
     "execution_count": 5,
     "metadata": {},
     "output_type": "execute_result"
    }
   ],
   "source": [
    "vectors.size()"
   ]
  },
  {
   "cell_type": "code",
   "execution_count": 61,
   "id": "70dbe608-7832-42ec-a8b0-31b615682a11",
   "metadata": {},
   "outputs": [],
   "source": [
    "queries = encoder.encode(\"eyes\")"
   ]
  },
  {
   "cell_type": "code",
   "execution_count": 62,
   "id": "d21e9974-9135-41c8-b4b4-c0d78585910f",
   "metadata": {},
   "outputs": [
    {
     "name": "stdout",
     "output_type": "stream",
     "text": [
      "http://www:8000/cougar_face_0014.jpg 0.6228154301643372\n",
      "http://www:8000/wild_cat_0016.jpg 0.6141691207885742\n",
      "http://www:8000/dragonfly_0010.jpg 0.6136279106140137\n"
     ]
    }
   ],
   "source": [
    "from hazelcast.vector import Vector, VectorType\n",
    "search_vector = Vector(name='semantic-search', type = VectorType.DENSE, vector=queries.tolist())\n",
    "results = vectors.search_near_vector(search_vector,include_value=True, limit=3)\n",
    "for result in results:\n",
    "    print(result.value, result.score)"
   ]
  }
 ],
 "metadata": {
  "kernelspec": {
   "display_name": "Python 3 (ipykernel)",
   "language": "python",
   "name": "python3"
  },
  "language_info": {
   "codemirror_mode": {
    "name": "ipython",
    "version": 3
   },
   "file_extension": ".py",
   "mimetype": "text/x-python",
   "name": "python",
   "nbconvert_exporter": "python",
   "pygments_lexer": "ipython3",
   "version": "3.12.4"
  }
 },
 "nbformat": 4,
 "nbformat_minor": 5
}
