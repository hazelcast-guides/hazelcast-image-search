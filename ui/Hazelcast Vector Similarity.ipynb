{
 "cells": [
  {
   "cell_type": "code",
   "execution_count": 2,
   "id": "df52bff6-f8a9-401b-81aa-f8395dc7e853",
   "metadata": {},
   "outputs": [],
   "source": [
    "import hazelcast\n",
    "\n",
    "# connect to Hazelcast\n",
    "hz = hazelcast.HazelcastClient(cluster_name = \"dev\", cluster_members = [\"hz:5701\"])"
   ]
  },
  {
   "cell_type": "code",
   "execution_count": 3,
   "id": "65e899e2-6f52-4e87-8890-cf9291914ac2",
   "metadata": {},
   "outputs": [],
   "source": [
    "vectors = hz.get_vector_collection('images').blocking()"
   ]
  },
  {
   "cell_type": "code",
   "execution_count": 4,
   "id": "c5a87301-5d8f-48e7-93ab-49cb0ce3c941",
   "metadata": {},
   "outputs": [
    {
     "name": "stderr",
     "output_type": "stream",
     "text": [
      "/usr/local/lib/python3.12/site-packages/sentence_transformers/cross_encoder/CrossEncoder.py:11: TqdmExperimentalWarning: Using `tqdm.autonotebook.tqdm` in notebook mode. Use `tqdm.tqdm` instead to force console mode (e.g. in jupyter console)\n",
      "  from tqdm.autonotebook import tqdm, trange\n"
     ]
    }
   ],
   "source": [
    "# initialize the sentence transformer \n",
    "import sentence_transformers\n",
    "encoder = sentence_transformers.SentenceTransformer('/project/models/clip-ViT-B-32');"
   ]
  },
  {
   "cell_type": "code",
   "execution_count": 5,
   "id": "290b7d83-4c93-4d9e-aed9-f78fde300174",
   "metadata": {},
   "outputs": [
    {
     "data": {
      "text/plain": [
       "0"
      ]
     },
     "execution_count": 5,
     "metadata": {},
     "output_type": "execute_result"
    }
   ],
   "source": [
    "vectors.size()"
   ]
  },
  {
   "cell_type": "code",
   "execution_count": 19,
   "id": "d21e9974-9135-41c8-b4b4-c0d78585910f",
   "metadata": {},
   "outputs": [
    {
     "data": {
      "text/html": [
       "<img src=\"http://localhost:8000/dragonfly_0013.jpg\"/>"
      ],
      "text/plain": [
       "<IPython.core.display.Image object>"
      ]
     },
     "metadata": {},
     "output_type": "display_data"
    },
    {
     "name": "stdout",
     "output_type": "stream",
     "text": [
      "score=0.6607595682144165\n"
     ]
    },
    {
     "data": {
      "text/html": [
       "<img src=\"http://localhost:8000/dragonfly_0015.jpg\"/>"
      ],
      "text/plain": [
       "<IPython.core.display.Image object>"
      ]
     },
     "metadata": {},
     "output_type": "display_data"
    },
    {
     "name": "stdout",
     "output_type": "stream",
     "text": [
      "score=0.6525623798370361\n"
     ]
    },
    {
     "data": {
      "text/html": [
       "<img src=\"http://localhost:8000/mayfly_0009.jpg\"/>"
      ],
      "text/plain": [
       "<IPython.core.display.Image object>"
      ]
     },
     "metadata": {},
     "output_type": "display_data"
    },
    {
     "name": "stdout",
     "output_type": "stream",
     "text": [
      "score=0.6375383138656616\n"
     ]
    }
   ],
   "source": [
    "from IPython.display import display, Image\n",
    "from hazelcast.vector import Vector, VectorType\n",
    "import requests\n",
    "from io import BytesIO\n",
    "\n",
    "queries = encoder.encode(\"dragonfly\")\n",
    "\n",
    "search_vector = Vector(name='semantic-search', type = VectorType.DENSE, vector=queries.tolist())\n",
    "results = vectors.search_near_vector(search_vector,include_value=True, limit=3)\n",
    "for result in results:\n",
    "    url = result.value\n",
    "    url = url.replace('www','localhost')\n",
    "    # print(f'{result.value} ({requests.get(result.value).status_code})')\n",
    "    display(Image(url=url))\n",
    "    print(f'score={result.score}')\n",
    "    "
   ]
  }
 ],
 "metadata": {
  "kernelspec": {
   "display_name": "Python 3 (ipykernel)",
   "language": "python",
   "name": "python3"
  },
  "language_info": {
   "codemirror_mode": {
    "name": "ipython",
    "version": 3
   },
   "file_extension": ".py",
   "mimetype": "text/x-python",
   "name": "python",
   "nbconvert_exporter": "python",
   "pygments_lexer": "ipython3",
   "version": "3.12.4"
  }
 },
 "nbformat": 4,
 "nbformat_minor": 5
}
